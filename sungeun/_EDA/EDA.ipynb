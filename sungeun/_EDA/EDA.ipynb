{
 "cells": [
  {
   "cell_type": "markdown",
   "metadata": {},
   "source": [
    "# text_cleaned -> 라벨은 올바름"
   ]
  },
  {
   "cell_type": "code",
   "execution_count": null,
   "metadata": {},
   "outputs": [
    {
     "name": "stdout",
     "output_type": "stream",
     "text": [
      "1192\n",
      "1481\n",
      "                    ID                            text  target\n",
      "0  ynat-v1_train_00003   갤노트8 주말 27만대 개통…시장은 불법 보조금 얼룩       4\n",
      "1  ynat-v1_train_00005  美성인 6명 중 1명꼴 배우자·연인 빚 떠안은 적 있다       6\n",
      "2  ynat-v1_train_00008  朴대통령 얼마나 많이 놀라셨어요…경주 지진현장 방문종합       2\n",
      "3  ynat-v1_train_00009      듀얼심 아이폰 하반기 출시설 솔솔…알뜰폰 기대감       4\n",
      "4  ynat-v1_train_00012        황총리 각 부처 비상대비태세 철저히 강구해야       2\n",
      "                       ID                        text  target\n",
      "1476  ynat-v1_train_02786                     실 선생님 홀       3\n",
      "1477  ynat-v1_train_02787       노바 라이온 T3 10 결승 상품 공개       6\n",
      "1478  ynat-v1_train_02788           남원 소식: 춘향단 장학생 모집       0\n",
      "1479  ynat-v1_train_02792                    선수 몸값 상승       1\n",
      "1480  ynat-v1_train_02797  텔레그램 등 서비스 2시간 다운… 원인 조사 중       4\n"
     ]
    }
   ],
   "source": [
    "import pandas as pd\n",
    "cleaned_label = pd.read_csv(\"cleaned_label.csv\")\n",
    "cleaned_text = pd.read_csv(\"cleaned_text.csv\")\n",
    "print(len(cleaned_label)) # 잘못된 라벨 고친거 (1192개)\n",
    "print(len(cleaned_text)) # 잘된 라벨 고친거 -> text는 잘못되었어! (1481개)\n",
    "print(cleaned_label.head())\n",
    "print(cleaned_text.tail())"
   ]
  },
  {
   "cell_type": "code",
   "execution_count": 31,
   "metadata": {},
   "outputs": [
    {
     "name": "stdout",
     "output_type": "stream",
     "text": [
      "2673\n"
     ]
    }
   ],
   "source": [
    "print(1192 + 1481)"
   ]
  },
  {
   "cell_type": "code",
   "execution_count": 46,
   "metadata": {},
   "outputs": [
    {
     "name": "stdout",
     "output_type": "stream",
     "text": [
      "2673\n",
      "                            ID                       text  target\n",
      "0  ynat-v1_train_00000_syn_rep            KT 이용 기간 2년 줄인다       4\n",
      "1  ynat-v1_train_00001_syn_rep              경찰·국회의장 검찰 송치       3\n",
      "2  ynat-v1_train_00002_syn_rep          김정은 자주통일 새로운 길 모색       2\n",
      "3  ynat-v1_train_00004_syn_rep  미 대선 앞두고 러시아 사이버 공격 경계 강화       6\n",
      "4  ynat-v1_train_00006_syn_rep         롯데·KIA 광주 경기 우천 취소       1\n"
     ]
    }
   ],
   "source": [
    "clean_clean_text = pd.read_csv(\"train_augmented_processed4.csv\")\n",
    "print(len(clean_clean_text))\n",
    "print(clean_clean_text.head())"
   ]
  },
  {
   "cell_type": "code",
   "execution_count": 47,
   "metadata": {},
   "outputs": [
    {
     "data": {
      "text/html": [
       "<div>\n",
       "<style scoped>\n",
       "    .dataframe tbody tr th:only-of-type {\n",
       "        vertical-align: middle;\n",
       "    }\n",
       "\n",
       "    .dataframe tbody tr th {\n",
       "        vertical-align: top;\n",
       "    }\n",
       "\n",
       "    .dataframe thead th {\n",
       "        text-align: right;\n",
       "    }\n",
       "</style>\n",
       "<table border=\"1\" class=\"dataframe\">\n",
       "  <thead>\n",
       "    <tr style=\"text-align: right;\">\n",
       "      <th></th>\n",
       "      <th>ID</th>\n",
       "      <th>text</th>\n",
       "      <th>target</th>\n",
       "    </tr>\n",
       "  </thead>\n",
       "  <tbody>\n",
       "    <tr>\n",
       "      <th>2668</th>\n",
       "      <td>ynat-v1_train_02786_syn_rep</td>\n",
       "      <td>실제 선생님 명예의 전당에 오르다</td>\n",
       "      <td>3</td>\n",
       "    </tr>\n",
       "    <tr>\n",
       "      <th>2669</th>\n",
       "      <td>ynat-v1_train_02787_syn_rep</td>\n",
       "      <td>노바 라이온 T3 10 결승 상품 베일 벗다</td>\n",
       "      <td>6</td>\n",
       "    </tr>\n",
       "    <tr>\n",
       "      <th>2670</th>\n",
       "      <td>ynat-v1_train_02788_syn_rep</td>\n",
       "      <td>남원 춘향단 장학생 선발</td>\n",
       "      <td>0</td>\n",
       "    </tr>\n",
       "    <tr>\n",
       "      <th>2671</th>\n",
       "      <td>ynat-v1_train_02792_syn_rep</td>\n",
       "      <td>선수 가치 급등</td>\n",
       "      <td>1</td>\n",
       "    </tr>\n",
       "    <tr>\n",
       "      <th>2672</th>\n",
       "      <td>ynat-v1_train_02797_syn_rep</td>\n",
       "      <td>텔레그램 등 서비스 2시간 먹통… 원인 파악 중</td>\n",
       "      <td>4</td>\n",
       "    </tr>\n",
       "  </tbody>\n",
       "</table>\n",
       "</div>"
      ],
      "text/plain": [
       "                               ID                        text  target\n",
       "2668  ynat-v1_train_02786_syn_rep          실제 선생님 명예의 전당에 오르다       3\n",
       "2669  ynat-v1_train_02787_syn_rep    노바 라이온 T3 10 결승 상품 베일 벗다       6\n",
       "2670  ynat-v1_train_02788_syn_rep               남원 춘향단 장학생 선발       0\n",
       "2671  ynat-v1_train_02792_syn_rep                    선수 가치 급등       1\n",
       "2672  ynat-v1_train_02797_syn_rep  텔레그램 등 서비스 2시간 먹통… 원인 파악 중       4"
      ]
     },
     "execution_count": 47,
     "metadata": {},
     "output_type": "execute_result"
    }
   ],
   "source": [
    "new_data = pd.concat([cleaned_label, clean_clean_text[:1481]], ignore_index=True)\n",
    "new_data.tail()"
   ]
  },
  {
   "cell_type": "code",
   "execution_count": 48,
   "metadata": {},
   "outputs": [
    {
     "name": "stdout",
     "output_type": "stream",
     "text": [
      "2673\n"
     ]
    }
   ],
   "source": [
    "print(len(new_data))"
   ]
  },
  {
   "cell_type": "code",
   "execution_count": 49,
   "metadata": {},
   "outputs": [],
   "source": [
    "new_data.to_csv('태원라벨링+한서_성은_llm.csv', index=False, encoding='utf-8-sig')"
   ]
  },
  {
   "cell_type": "code",
   "execution_count": 50,
   "metadata": {},
   "outputs": [
    {
     "data": {
      "text/html": [
       "<div>\n",
       "<style scoped>\n",
       "    .dataframe tbody tr th:only-of-type {\n",
       "        vertical-align: middle;\n",
       "    }\n",
       "\n",
       "    .dataframe tbody tr th {\n",
       "        vertical-align: top;\n",
       "    }\n",
       "\n",
       "    .dataframe thead th {\n",
       "        text-align: right;\n",
       "    }\n",
       "</style>\n",
       "<table border=\"1\" class=\"dataframe\">\n",
       "  <thead>\n",
       "    <tr style=\"text-align: right;\">\n",
       "      <th></th>\n",
       "      <th>ID</th>\n",
       "      <th>text</th>\n",
       "      <th>target</th>\n",
       "    </tr>\n",
       "  </thead>\n",
       "  <tbody>\n",
       "    <tr>\n",
       "      <th>0</th>\n",
       "      <td>ynat-v1_train_00003</td>\n",
       "      <td>갤노트8 주말 27만대 개통…시장은 불법 보조금 얼룩</td>\n",
       "      <td>4</td>\n",
       "    </tr>\n",
       "    <tr>\n",
       "      <th>1</th>\n",
       "      <td>ynat-v1_train_00005</td>\n",
       "      <td>美성인 6명 중 1명꼴 배우자·연인 빚 떠안은 적 있다</td>\n",
       "      <td>6</td>\n",
       "    </tr>\n",
       "    <tr>\n",
       "      <th>2</th>\n",
       "      <td>ynat-v1_train_00008</td>\n",
       "      <td>朴대통령 얼마나 많이 놀라셨어요…경주 지진현장 방문종합</td>\n",
       "      <td>2</td>\n",
       "    </tr>\n",
       "    <tr>\n",
       "      <th>3</th>\n",
       "      <td>ynat-v1_train_00009</td>\n",
       "      <td>듀얼심 아이폰 하반기 출시설 솔솔…알뜰폰 기대감</td>\n",
       "      <td>4</td>\n",
       "    </tr>\n",
       "    <tr>\n",
       "      <th>4</th>\n",
       "      <td>ynat-v1_train_00012</td>\n",
       "      <td>황총리 각 부처 비상대비태세 철저히 강구해야</td>\n",
       "      <td>2</td>\n",
       "    </tr>\n",
       "  </tbody>\n",
       "</table>\n",
       "</div>"
      ],
      "text/plain": [
       "                    ID                            text  target\n",
       "0  ynat-v1_train_00003   갤노트8 주말 27만대 개통…시장은 불법 보조금 얼룩       4\n",
       "1  ynat-v1_train_00005  美성인 6명 중 1명꼴 배우자·연인 빚 떠안은 적 있다       6\n",
       "2  ynat-v1_train_00008  朴대통령 얼마나 많이 놀라셨어요…경주 지진현장 방문종합       2\n",
       "3  ynat-v1_train_00009      듀얼심 아이폰 하반기 출시설 솔솔…알뜰폰 기대감       4\n",
       "4  ynat-v1_train_00012        황총리 각 부처 비상대비태세 철저히 강구해야       2"
      ]
     },
     "execution_count": 50,
     "metadata": {},
     "output_type": "execute_result"
    }
   ],
   "source": [
    "new_data.head()"
   ]
  },
  {
   "cell_type": "code",
   "execution_count": 51,
   "metadata": {},
   "outputs": [
    {
     "data": {
      "image/png": "[encoded data removed]",
      "text/plain": [
       "<Figure size 1000x600 with 1 Axes>"
      ]
     },
     "metadata": {},
     "output_type": "display_data"
    }
   ],
   "source": [
    "import pandas as pd\n",
    "import matplotlib.pyplot as plt\n",
    "\n",
    "# target 값의 분포 계산\n",
    "target_counts = new_data['target'].value_counts().sort_index()\n",
    "\n",
    "# 막대 그래프 그리기\n",
    "plt.figure(figsize=(10, 6))\n",
    "plt.bar(target_counts.index, target_counts.values, color='skyblue')\n",
    "plt.xlabel('Target')\n",
    "plt.ylabel('Count')\n",
    "plt.title('Target Value Distribution')\n",
    "plt.xticks(target_counts.index)  # x축의 라벨 설정\n",
    "plt.grid(axis='y', linestyle='--', alpha=0.7)\n",
    "plt.show()"
   ]
  },
  {
   "cell_type": "markdown",
   "metadata": {},
   "source": [
    "0: 211\n",
    "1: 219\n",
    "2: 202\n",
    "3: 219\n",
    "4: 218\n",
    "5: 220\n",
    "6: 192"
   ]
  },
  {
   "cell_type": "code",
   "execution_count": 44,
   "metadata": {},
   "outputs": [],
   "source": [
    "# filtered_0 = df[df['target'] == 0]\n",
    "# print(len(filtered_0))\n",
    "# filtered_0.head(20)"
   ]
  },
  {
   "cell_type": "code",
   "execution_count": null,
   "metadata": {},
   "outputs": [
    {
     "data": {
      "image/png": "[encoded data removed]",
      "text/plain": [
       "<Figure size 1000x600 with 1 Axes>"
      ]
     },
     "metadata": {},
     "output_type": "display_data"
    }
   ],
   "source": [
    "import pandas as pd\n",
    "import matplotlib.pyplot as plt\n",
    "\n",
    "\n",
    "\n",
    "# target과 predicted_label의 갯수 세기\n",
    "target_counts = df['target'].value_counts().sort_index()\n",
    "predicted_counts = df['predicted_label'].value_counts().sort_index()\n",
    "\n",
    "# 두 개의 값이 존재하지 않는 인덱스도 포함하도록 모든 인덱스 만들기\n",
    "all_indices = sorted(set(target_counts.index).union(set(predicted_counts.index)))\n",
    "\n",
    "# target과 predicted_label의 갯수를 모든 인덱스에 맞춰서 재정렬\n",
    "target_counts = target_counts.reindex(all_indices, fill_value=0)\n",
    "predicted_counts = predicted_counts.reindex(all_indices, fill_value=0)\n",
    "\n",
    "# 막대 그래프 그리기\n",
    "plt.figure(figsize=(10, 6))\n",
    "bar_width = 0.35\n",
    "index = range(len(all_indices))\n",
    "\n",
    "# target과 predicted_label의 막대 그래프\n",
    "bars1 = plt.bar(index, target_counts, width=bar_width, label='Target', color='b', alpha=0.6)\n",
    "bars2 = plt.bar([i + bar_width for i in index], predicted_counts, width=bar_width, label='Predicted', color='r', alpha=0.6)\n",
    "\n",
    "# 각 막대 위에 숫자 표시\n",
    "for bar in bars1:\n",
    "    plt.text(bar.get_x() + bar.get_width() / 2, bar.get_height(), int(bar.get_height()), ha='center', va='bottom')\n",
    "for bar in bars2:\n",
    "    plt.text(bar.get_x() + bar.get_width() / 2, bar.get_height(), int(bar.get_height()), ha='center', va='bottom')\n",
    "\n",
    "# 그래프 설정\n",
    "plt.xlabel('Label')\n",
    "plt.ylabel('Count')\n",
    "plt.title('Target vs Predicted Label Counts')\n",
    "plt.xticks([i + bar_width / 2 for i in index], all_indices)\n",
    "plt.legend()\n",
    "\n",
    "# 그래프 출력\n",
    "plt.show()"
   ]
  },
  {
   "cell_type": "code",
   "execution_count": null,
   "metadata": {},
   "outputs": [
    {
     "name": "stdout",
     "output_type": "stream",
     "text": [
      "158\n"
     ]
    },
    {
     "data": {
      "text/html": [
       "<div>\n",
       "<style scoped>\n",
       "    .dataframe tbody tr th:only-of-type {\n",
       "        vertical-align: middle;\n",
       "    }\n",
       "\n",
       "    .dataframe tbody tr th {\n",
       "        vertical-align: top;\n",
       "    }\n",
       "\n",
       "    .dataframe thead th {\n",
       "        text-align: right;\n",
       "    }\n",
       "</style>\n",
       "<table border=\"1\" class=\"dataframe\">\n",
       "  <thead>\n",
       "    <tr style=\"text-align: right;\">\n",
       "      <th></th>\n",
       "      <th>ID</th>\n",
       "      <th>text</th>\n",
       "      <th>target</th>\n",
       "      <th>predicted_label</th>\n",
       "    </tr>\n",
       "  </thead>\n",
       "  <tbody>\n",
       "    <tr>\n",
       "      <th>10</th>\n",
       "      <td>ynat-v1_train_00024</td>\n",
       "      <td>서울에 다시 오존주의보…도심·서북·동북권 발령종합</td>\n",
       "      <td>1</td>\n",
       "      <td>0</td>\n",
       "    </tr>\n",
       "    <tr>\n",
       "      <th>11</th>\n",
       "      <td>ynat-v1_train_00035</td>\n",
       "      <td>게시판 KBS 코로나가 바꾼 일상 대국민 영상 공모</td>\n",
       "      <td>0</td>\n",
       "      <td>0</td>\n",
       "    </tr>\n",
       "    <tr>\n",
       "      <th>14</th>\n",
       "      <td>ynat-v1_train_00040</td>\n",
       "      <td>피폭 노동자가 증언하는 후쿠시마 원전 은폐와 속임수</td>\n",
       "      <td>6</td>\n",
       "      <td>0</td>\n",
       "    </tr>\n",
       "    <tr>\n",
       "      <th>26</th>\n",
       "      <td>ynat-v1_train_00093</td>\n",
       "      <td>문대통령 호주 총리와 축구 평가전 1대1 무승부 축하</td>\n",
       "      <td>1</td>\n",
       "      <td>0</td>\n",
       "    </tr>\n",
       "    <tr>\n",
       "      <th>39</th>\n",
       "      <td>ynat-v1_train_00151</td>\n",
       "      <td>한국형 발사체 75t 엔진 첫 연소시험 성공</td>\n",
       "      <td>2</td>\n",
       "      <td>0</td>\n",
       "    </tr>\n",
       "    <tr>\n",
       "      <th>54</th>\n",
       "      <td>ynat-v1_train_00201</td>\n",
       "      <td>빛으로 작동하는 나노선 트랜지스터 개발 성공</td>\n",
       "      <td>4</td>\n",
       "      <td>0</td>\n",
       "    </tr>\n",
       "    <tr>\n",
       "      <th>67</th>\n",
       "      <td>ynat-v1_train_00232</td>\n",
       "      <td>충북 가마솥더위 지속…주말도 더워요</td>\n",
       "      <td>2</td>\n",
       "      <td>0</td>\n",
       "    </tr>\n",
       "    <tr>\n",
       "      <th>69</th>\n",
       "      <td>ynat-v1_train_00235</td>\n",
       "      <td>신간 답이 보이지 않는 상황을 견디는 힘</td>\n",
       "      <td>4</td>\n",
       "      <td>0</td>\n",
       "    </tr>\n",
       "    <tr>\n",
       "      <th>77</th>\n",
       "      <td>ynat-v1_train_00262</td>\n",
       "      <td>국립민속박물관 아카이브 만들기 특별전 개최</td>\n",
       "      <td>6</td>\n",
       "      <td>0</td>\n",
       "    </tr>\n",
       "    <tr>\n",
       "      <th>84</th>\n",
       "      <td>ynat-v1_train_00273</td>\n",
       "      <td>위안부 피해자 그림 선생님이 전하는 이야기</td>\n",
       "      <td>6</td>\n",
       "      <td>0</td>\n",
       "    </tr>\n",
       "  </tbody>\n",
       "</table>\n",
       "</div>"
      ],
      "text/plain": [
       "                     ID                           text  target  \\\n",
       "10  ynat-v1_train_00024    서울에 다시 오존주의보…도심·서북·동북권 발령종합       1   \n",
       "11  ynat-v1_train_00035   게시판 KBS 코로나가 바꾼 일상 대국민 영상 공모       0   \n",
       "14  ynat-v1_train_00040   피폭 노동자가 증언하는 후쿠시마 원전 은폐와 속임수       6   \n",
       "26  ynat-v1_train_00093  문대통령 호주 총리와 축구 평가전 1대1 무승부 축하       1   \n",
       "39  ynat-v1_train_00151       한국형 발사체 75t 엔진 첫 연소시험 성공       2   \n",
       "54  ynat-v1_train_00201       빛으로 작동하는 나노선 트랜지스터 개발 성공       4   \n",
       "67  ynat-v1_train_00232            충북 가마솥더위 지속…주말도 더워요       2   \n",
       "69  ynat-v1_train_00235         신간 답이 보이지 않는 상황을 견디는 힘       4   \n",
       "77  ynat-v1_train_00262        국립민속박물관 아카이브 만들기 특별전 개최       6   \n",
       "84  ynat-v1_train_00273        위안부 피해자 그림 선생님이 전하는 이야기       6   \n",
       "\n",
       "    predicted_label  \n",
       "10                0  \n",
       "11                0  \n",
       "14                0  \n",
       "26                0  \n",
       "39                0  \n",
       "54                0  \n",
       "67                0  \n",
       "69                0  \n",
       "77                0  \n",
       "84                0  "
      ]
     },
     "execution_count": 5,
     "metadata": {},
     "output_type": "execute_result"
    }
   ],
   "source": [
    "filtered_0 = df[df['predicted_label'] == 0]\n",
    "print(len(filtered_0))\n",
    "filtered_0.head(10)"
   ]
  },
  {
   "cell_type": "code",
   "execution_count": null,
   "metadata": {},
   "outputs": [
    {
     "name": "stdout",
     "output_type": "stream",
     "text": [
      "159\n"
     ]
    },
    {
     "data": {
      "text/html": [
       "<div>\n",
       "<style scoped>\n",
       "    .dataframe tbody tr th:only-of-type {\n",
       "        vertical-align: middle;\n",
       "    }\n",
       "\n",
       "    .dataframe tbody tr th {\n",
       "        vertical-align: top;\n",
       "    }\n",
       "\n",
       "    .dataframe thead th {\n",
       "        text-align: right;\n",
       "    }\n",
       "</style>\n",
       "<table border=\"1\" class=\"dataframe\">\n",
       "  <thead>\n",
       "    <tr style=\"text-align: right;\">\n",
       "      <th></th>\n",
       "      <th>ID</th>\n",
       "      <th>text</th>\n",
       "      <th>target</th>\n",
       "      <th>predicted_label</th>\n",
       "    </tr>\n",
       "  </thead>\n",
       "  <tbody>\n",
       "    <tr>\n",
       "      <th>9</th>\n",
       "      <td>ynat-v1_train_00023</td>\n",
       "      <td>아시안게임 목소리 높인 박항서 베트남이 일본 못 이길...</td>\n",
       "      <td>6</td>\n",
       "      <td>1</td>\n",
       "    </tr>\n",
       "    <tr>\n",
       "      <th>13</th>\n",
       "      <td>ynat-v1_train_00038</td>\n",
       "      <td>마틴 우리카드 코치로 V리그 복귀…한국 좋아요</td>\n",
       "      <td>5</td>\n",
       "      <td>1</td>\n",
       "    </tr>\n",
       "    <tr>\n",
       "      <th>23</th>\n",
       "      <td>ynat-v1_train_00073</td>\n",
       "      <td>대한항공 인천∼바르셀로나 노선 첫 취항</td>\n",
       "      <td>1</td>\n",
       "      <td>1</td>\n",
       "    </tr>\n",
       "    <tr>\n",
       "      <th>29</th>\n",
       "      <td>ynat-v1_train_00104</td>\n",
       "      <td>승리에도 침통했던 박기원 감독 엔진을 끈 것 같다</td>\n",
       "      <td>0</td>\n",
       "      <td>1</td>\n",
       "    </tr>\n",
       "    <tr>\n",
       "      <th>51</th>\n",
       "      <td>ynat-v1_train_00189</td>\n",
       "      <td>400년 전 일본 건너간 조선 첫 여성도공 백파선</td>\n",
       "      <td>1</td>\n",
       "      <td>1</td>\n",
       "    </tr>\n",
       "    <tr>\n",
       "      <th>55</th>\n",
       "      <td>ynat-v1_train_00207</td>\n",
       "      <td>故문중원 기수 대책위 정부가 나서라…靑 인근까지 상여 행진</td>\n",
       "      <td>0</td>\n",
       "      <td>1</td>\n",
       "    </tr>\n",
       "    <tr>\n",
       "      <th>57</th>\n",
       "      <td>ynat-v1_train_00211</td>\n",
       "      <td>한국 남자농구도 월드컵 승전보…아시아 예선서 중국 제압</td>\n",
       "      <td>1</td>\n",
       "      <td>1</td>\n",
       "    </tr>\n",
       "    <tr>\n",
       "      <th>58</th>\n",
       "      <td>ynat-v1_train_00212</td>\n",
       "      <td>장애인 정책 발표하는 안철수</td>\n",
       "      <td>6</td>\n",
       "      <td>1</td>\n",
       "    </tr>\n",
       "    <tr>\n",
       "      <th>59</th>\n",
       "      <td>ynat-v1_train_00213</td>\n",
       "      <td>아시안게임 키르기스스탄전 앞둔 김학범 스스로 만든 가...</td>\n",
       "      <td>4</td>\n",
       "      <td>1</td>\n",
       "    </tr>\n",
       "    <tr>\n",
       "      <th>61</th>\n",
       "      <td>ynat-v1_train_00222</td>\n",
       "      <td>네덜란드 정부 보스니아 무슬림 학살사건에 10% 책임</td>\n",
       "      <td>4</td>\n",
       "      <td>1</td>\n",
       "    </tr>\n",
       "  </tbody>\n",
       "</table>\n",
       "</div>"
      ],
      "text/plain": [
       "                     ID                              text  target  \\\n",
       "9   ynat-v1_train_00023  아시안게임 목소리 높인 박항서 베트남이 일본 못 이길...       6   \n",
       "13  ynat-v1_train_00038         마틴 우리카드 코치로 V리그 복귀…한국 좋아요       5   \n",
       "23  ynat-v1_train_00073             대한항공 인천∼바르셀로나 노선 첫 취항       1   \n",
       "29  ynat-v1_train_00104       승리에도 침통했던 박기원 감독 엔진을 끈 것 같다       0   \n",
       "51  ynat-v1_train_00189       400년 전 일본 건너간 조선 첫 여성도공 백파선       1   \n",
       "55  ynat-v1_train_00207  故문중원 기수 대책위 정부가 나서라…靑 인근까지 상여 행진       0   \n",
       "57  ynat-v1_train_00211    한국 남자농구도 월드컵 승전보…아시아 예선서 중국 제압       1   \n",
       "58  ynat-v1_train_00212                   장애인 정책 발표하는 안철수       6   \n",
       "59  ynat-v1_train_00213  아시안게임 키르기스스탄전 앞둔 김학범 스스로 만든 가...       4   \n",
       "61  ynat-v1_train_00222     네덜란드 정부 보스니아 무슬림 학살사건에 10% 책임       4   \n",
       "\n",
       "    predicted_label  \n",
       "9                 1  \n",
       "13                1  \n",
       "23                1  \n",
       "29                1  \n",
       "51                1  \n",
       "55                1  \n",
       "57                1  \n",
       "58                1  \n",
       "59                1  \n",
       "61                1  "
      ]
     },
     "execution_count": 6,
     "metadata": {},
     "output_type": "execute_result"
    }
   ],
   "source": [
    "filtered_1 = df[df['predicted_label'] == 1]\n",
    "print(len(filtered_1))\n",
    "filtered_1.head(10)"
   ]
  },
  {
   "cell_type": "code",
   "execution_count": null,
   "metadata": {},
   "outputs": [
    {
     "name": "stdout",
     "output_type": "stream",
     "text": [
      "160\n"
     ]
    },
    {
     "data": {
      "text/html": [
       "<div>\n",
       "<style scoped>\n",
       "    .dataframe tbody tr th:only-of-type {\n",
       "        vertical-align: middle;\n",
       "    }\n",
       "\n",
       "    .dataframe tbody tr th {\n",
       "        vertical-align: top;\n",
       "    }\n",
       "\n",
       "    .dataframe thead th {\n",
       "        text-align: right;\n",
       "    }\n",
       "</style>\n",
       "<table border=\"1\" class=\"dataframe\">\n",
       "  <thead>\n",
       "    <tr style=\"text-align: right;\">\n",
       "      <th></th>\n",
       "      <th>ID</th>\n",
       "      <th>text</th>\n",
       "      <th>target</th>\n",
       "      <th>predicted_label</th>\n",
       "    </tr>\n",
       "  </thead>\n",
       "  <tbody>\n",
       "    <tr>\n",
       "      <th>3</th>\n",
       "      <td>ynat-v1_train_00009</td>\n",
       "      <td>듀얼심 아이폰 하반기 출시설 솔솔…알뜰폰 기대감</td>\n",
       "      <td>4</td>\n",
       "      <td>2</td>\n",
       "    </tr>\n",
       "    <tr>\n",
       "      <th>20</th>\n",
       "      <td>ynat-v1_train_00063</td>\n",
       "      <td>영상 선출부터 퇴장까지…나경원 원내대표 파란만장 1년</td>\n",
       "      <td>5</td>\n",
       "      <td>2</td>\n",
       "    </tr>\n",
       "    <tr>\n",
       "      <th>22</th>\n",
       "      <td>ynat-v1_train_00072</td>\n",
       "      <td>獨 反이스라엘 테러 팔레스타인인 강연 차단…비자도 취소</td>\n",
       "      <td>3</td>\n",
       "      <td>2</td>\n",
       "    </tr>\n",
       "    <tr>\n",
       "      <th>24</th>\n",
       "      <td>ynat-v1_train_00081</td>\n",
       "      <td>한산한 성산일출봉 주차장</td>\n",
       "      <td>3</td>\n",
       "      <td>2</td>\n",
       "    </tr>\n",
       "    <tr>\n",
       "      <th>27</th>\n",
       "      <td>ynat-v1_train_00099</td>\n",
       "      <td>北 무수단 발사 대기권 재진입 기술 확보 여부가 관건</td>\n",
       "      <td>1</td>\n",
       "      <td>2</td>\n",
       "    </tr>\n",
       "    <tr>\n",
       "      <th>34</th>\n",
       "      <td>ynat-v1_train_00143</td>\n",
       "      <td>지소미아 종료까지 8일…美 압박 속 고민 깊어지는 文대통령</td>\n",
       "      <td>4</td>\n",
       "      <td>2</td>\n",
       "    </tr>\n",
       "    <tr>\n",
       "      <th>35</th>\n",
       "      <td>ynat-v1_train_00144</td>\n",
       "      <td>호텔서 스타 셰프 음식 만난다…더플라자 레스토랑 4곳 오픈</td>\n",
       "      <td>4</td>\n",
       "      <td>2</td>\n",
       "    </tr>\n",
       "    <tr>\n",
       "      <th>40</th>\n",
       "      <td>ynat-v1_train_00162</td>\n",
       "      <td>北당대회 나흘만에 일부 외신 취재허용…김정은 위원장 취임 발표</td>\n",
       "      <td>6</td>\n",
       "      <td>2</td>\n",
       "    </tr>\n",
       "    <tr>\n",
       "      <th>45</th>\n",
       "      <td>ynat-v1_train_00175</td>\n",
       "      <td>북한 사이버 공격 집단 세계 은행들 상대 1천억 탈취종합</td>\n",
       "      <td>4</td>\n",
       "      <td>2</td>\n",
       "    </tr>\n",
       "    <tr>\n",
       "      <th>56</th>\n",
       "      <td>ynat-v1_train_00208</td>\n",
       "      <td>새누리 갈등 폭발한 상임 전국위·전국위는 어떤 기구</td>\n",
       "      <td>5</td>\n",
       "      <td>2</td>\n",
       "    </tr>\n",
       "  </tbody>\n",
       "</table>\n",
       "</div>"
      ],
      "text/plain": [
       "                     ID                                text  target  \\\n",
       "3   ynat-v1_train_00009          듀얼심 아이폰 하반기 출시설 솔솔…알뜰폰 기대감       4   \n",
       "20  ynat-v1_train_00063       영상 선출부터 퇴장까지…나경원 원내대표 파란만장 1년       5   \n",
       "22  ynat-v1_train_00072      獨 反이스라엘 테러 팔레스타인인 강연 차단…비자도 취소       3   \n",
       "24  ynat-v1_train_00081                       한산한 성산일출봉 주차장       3   \n",
       "27  ynat-v1_train_00099       北 무수단 발사 대기권 재진입 기술 확보 여부가 관건       1   \n",
       "34  ynat-v1_train_00143    지소미아 종료까지 8일…美 압박 속 고민 깊어지는 文대통령       4   \n",
       "35  ynat-v1_train_00144    호텔서 스타 셰프 음식 만난다…더플라자 레스토랑 4곳 오픈       4   \n",
       "40  ynat-v1_train_00162  北당대회 나흘만에 일부 외신 취재허용…김정은 위원장 취임 발표       6   \n",
       "45  ynat-v1_train_00175     북한 사이버 공격 집단 세계 은행들 상대 1천억 탈취종합       4   \n",
       "56  ynat-v1_train_00208        새누리 갈등 폭발한 상임 전국위·전국위는 어떤 기구       5   \n",
       "\n",
       "    predicted_label  \n",
       "3                 2  \n",
       "20                2  \n",
       "22                2  \n",
       "24                2  \n",
       "27                2  \n",
       "34                2  \n",
       "35                2  \n",
       "40                2  \n",
       "45                2  \n",
       "56                2  "
      ]
     },
     "execution_count": 7,
     "metadata": {},
     "output_type": "execute_result"
    }
   ],
   "source": [
    "filtered_2 = df[df['predicted_label'] == 2]\n",
    "print(len(filtered_2))\n",
    "filtered_2.head(10)"
   ]
  },
  {
   "cell_type": "code",
   "execution_count": null,
   "metadata": {},
   "outputs": [],
   "source": []
  }
 ],
 "metadata": {
  "kernelspec": {
   "display_name": "base",
   "language": "python",
   "name": "python3"
  },
  "language_info": {
   "codemirror_mode": {
    "name": "ipython",
    "version": 3
   },
   "file_extension": ".py",
   "mimetype": "text/x-python",
   "name": "python",
   "nbconvert_exporter": "python",
   "pygments_lexer": "ipython3",
   "version": "3.10.13"
  }
 },
 "nbformat": 4,
 "nbformat_minor": 2
}
